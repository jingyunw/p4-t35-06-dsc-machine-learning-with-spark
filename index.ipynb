{
 "cells": [
  {
   "cell_type": "markdown",
   "metadata": {},
   "source": [
    "# Machine Learning with Spark\n",
    "\n",
    "## Introduction\n",
    "\n",
    "You've now explored how to perform operations on Spark RDDs for simple MapReduce tasks. Luckily, there are far more advanced use cases for Spark, and many of them are found in the `ml` library, which we are going to explore in this lesson.\n",
    "\n",
    "\n",
    "## Objectives\n",
    "\n",
    "You will be able to: \n",
    "\n",
    "- Load and manipulate data using Spark DataFrames  \n",
    "- Define estimators and transformers in Spark ML \n",
    "- Create a Spark ML pipeline that transforms data and runs over a grid of hyperparameters \n",
    "\n",
    "\n",
    "\n",
    "## A Tale of Two Libraries\n",
    "\n",
    "If you look at the PySpark documentation, you'll notice that there are two different libraries for machine learning, [mllib](https://spark.apache.org/docs/latest/api/python/pyspark.mllib.html) and [ml](https://spark.apache.org/docs/latest/api/python/pyspark.ml.html). These libraries are extremely similar to one another, the only difference being that the `mllib` library is built upon the RDDs you just practiced using; whereas, the `ml` library is built on higher level Spark DataFrames, which has methods and attributes similar to pandas. Spark has stated that in the future, it is going to devote more effort to the `ml` library and that `mllib` will become deprecated. It's important to note that these libraries are much younger than pandas and scikit-learn and there are not as many features present in either.\n",
    "\n",
    "## Spark DataFrames\n",
    "\n",
    "In the previous lessons, you were introduced to SparkContext as the primary way to connect with a Spark Application. Here, we will be using SparkSession, which is from the [sql](https://spark.apache.org/docs/latest/api/python/pyspark.sql.html) component of PySpark. The SparkSession acts the same way as SparkContext; it is a bridge between Python and the Spark Application. It's just built on top of the Spark SQL API, a higher-level API than RDDs. In fact, a SparkContext object is spun up around which the SparkSession object is wrapped. Let's go through the process of manipulating some data here. For this example, we're going to be using the [Forest Fire dataset](https://archive.ics.uci.edu/ml/datasets/Forest+Fires) from UCI, which contains data about the area burned by wildfires in the Northeast region of Portugal in relation to numerous other factors.\n",
    "\n",
    "To begin with, let's create a SparkSession so that we can spin up our spark application. "
   ]
  },
  {
   "cell_type": "code",
   "execution_count": 1,
   "metadata": {},
   "outputs": [],
   "source": [
    "# importing the necessary libraries\n",
    "from pyspark import SparkContext\n",
    "from pyspark.sql import SparkSession\n",
    "sc = SparkContext('local[*]')\n",
    "spark = SparkSession(sc)"
   ]
  },
  {
   "cell_type": "markdown",
   "metadata": {},
   "source": [
    "To create a SparkSession: "
   ]
  },
  {
   "cell_type": "code",
   "execution_count": 2,
   "metadata": {},
   "outputs": [],
   "source": [
    "spark = SparkSession.builder.master('local').getOrCreate()"
   ]
  },
  {
   "cell_type": "markdown",
   "metadata": {},
   "source": [
    "Now, we'll load the data into a PySpark DataFrame: "
   ]
  },
  {
   "cell_type": "code",
   "execution_count": 3,
   "metadata": {},
   "outputs": [
    {
     "data": {
      "text/plain": [
       "pyspark.sql.dataframe.DataFrame"
      ]
     },
     "execution_count": 3,
     "metadata": {},
     "output_type": "execute_result"
    }
   ],
   "source": [
    "## reading in pyspark df\n",
    "spark_df = spark.read.csv('./forestfires.csv', header='true', inferSchema='true')\n",
    "\n",
    "## observing the datatype of df\n",
    "type(spark_df)"
   ]
  },
  {
   "cell_type": "markdown",
   "metadata": {},
   "source": [
    "You'll notice that some of the methods are extremely similar or the same as those found within Pandas."
   ]
  },
  {
   "cell_type": "code",
   "execution_count": 4,
   "metadata": {},
   "outputs": [
    {
     "data": {
      "text/plain": [
       "Row(X=7, Y=5, month='mar', day='fri', FFMC=86.2, DMC=26.2, DC=94.3, ISI=5.1, temp=8.2, RH=51, wind=6.7, rain=0.0, area=0.0)"
      ]
     },
     "execution_count": 4,
     "metadata": {},
     "output_type": "execute_result"
    }
   ],
   "source": [
    "spark_df.head()"
   ]
  },
  {
   "cell_type": "code",
   "execution_count": 5,
   "metadata": {},
   "outputs": [
    {
     "data": {
      "text/plain": [
       "['X',\n",
       " 'Y',\n",
       " 'month',\n",
       " 'day',\n",
       " 'FFMC',\n",
       " 'DMC',\n",
       " 'DC',\n",
       " 'ISI',\n",
       " 'temp',\n",
       " 'RH',\n",
       " 'wind',\n",
       " 'rain',\n",
       " 'area']"
      ]
     },
     "execution_count": 5,
     "metadata": {},
     "output_type": "execute_result"
    }
   ],
   "source": [
    "spark_df.columns"
   ]
  },
  {
   "cell_type": "markdown",
   "metadata": {},
   "source": [
    "Selecting multiple columns is similar as well: "
   ]
  },
  {
   "cell_type": "code",
   "execution_count": 6,
   "metadata": {},
   "outputs": [
    {
     "data": {
      "text/plain": [
       "DataFrame[month: string, day: string, rain: double]"
      ]
     },
     "execution_count": 6,
     "metadata": {},
     "output_type": "execute_result"
    }
   ],
   "source": [
    "spark_df[['month','day','rain']]"
   ]
  },
  {
   "cell_type": "markdown",
   "metadata": {},
   "source": [
    "But selecting one column is different. If you want to maintain the methods of a spark DataFrame, you should use the `.select()` method. If you want to just select the column, you can use the same method you would use in pandas (this is primarily what you would use if you're attempting to create a boolean mask). "
   ]
  },
  {
   "cell_type": "code",
   "execution_count": 7,
   "metadata": {
    "scrolled": true
   },
   "outputs": [],
   "source": [
    "d = spark_df.select('rain')"
   ]
  },
  {
   "cell_type": "code",
   "execution_count": 8,
   "metadata": {},
   "outputs": [
    {
     "data": {
      "text/plain": [
       "Column<'rain'>"
      ]
     },
     "execution_count": 8,
     "metadata": {},
     "output_type": "execute_result"
    }
   ],
   "source": [
    "spark_df['rain']"
   ]
  },
  {
   "cell_type": "markdown",
   "metadata": {},
   "source": [
    "Let's take a look at all of our data types in this dataframe"
   ]
  },
  {
   "cell_type": "code",
   "execution_count": 9,
   "metadata": {},
   "outputs": [
    {
     "data": {
      "text/plain": [
       "[('X', 'int'),\n",
       " ('Y', 'int'),\n",
       " ('month', 'string'),\n",
       " ('day', 'string'),\n",
       " ('FFMC', 'double'),\n",
       " ('DMC', 'double'),\n",
       " ('DC', 'double'),\n",
       " ('ISI', 'double'),\n",
       " ('temp', 'double'),\n",
       " ('RH', 'int'),\n",
       " ('wind', 'double'),\n",
       " ('rain', 'double'),\n",
       " ('area', 'double')]"
      ]
     },
     "execution_count": 9,
     "metadata": {},
     "output_type": "execute_result"
    }
   ],
   "source": [
    "spark_df.dtypes"
   ]
  },
  {
   "cell_type": "markdown",
   "metadata": {},
   "source": [
    "## Aggregations with our DataFrame"
   ]
  },
  {
   "cell_type": "markdown",
   "metadata": {},
   "source": [
    "Let's investigate to see if there is any correlation between what month it is and the area of fire: "
   ]
  },
  {
   "cell_type": "code",
   "execution_count": 10,
   "metadata": {},
   "outputs": [
    {
     "data": {
      "text/plain": [
       "DataFrame[month: string, avg(area): double]"
      ]
     },
     "execution_count": 10,
     "metadata": {},
     "output_type": "execute_result"
    }
   ],
   "source": [
    "spark_df_months = spark_df.groupBy('month').agg({'area': 'mean'})\n",
    "spark_df_months"
   ]
  },
  {
   "cell_type": "markdown",
   "metadata": {},
   "source": [
    "Notice how the grouped DataFrame is not returned when you call the aggregation method. Remember, this is still Spark! The transformations and actions are kept separate so that it is easier to manage large quantities of data. You can perform the transformation by calling `.collect()`: "
   ]
  },
  {
   "cell_type": "code",
   "execution_count": 11,
   "metadata": {},
   "outputs": [
    {
     "data": {
      "text/plain": [
       "[Row(month='jun', avg(area)=5.841176470588234),\n",
       " Row(month='aug', avg(area)=12.489076086956521),\n",
       " Row(month='may', avg(area)=19.24),\n",
       " Row(month='feb', avg(area)=6.275),\n",
       " Row(month='sep', avg(area)=17.942616279069753),\n",
       " Row(month='mar', avg(area)=4.356666666666667),\n",
       " Row(month='oct', avg(area)=6.638),\n",
       " Row(month='jul', avg(area)=14.3696875),\n",
       " Row(month='nov', avg(area)=0.0),\n",
       " Row(month='apr', avg(area)=8.891111111111112),\n",
       " Row(month='dec', avg(area)=13.33),\n",
       " Row(month='jan', avg(area)=0.0)]"
      ]
     },
     "execution_count": 11,
     "metadata": {},
     "output_type": "execute_result"
    }
   ],
   "source": [
    "spark_df_months.collect()"
   ]
  },
  {
   "cell_type": "markdown",
   "metadata": {},
   "source": [
    "As you can see, there seem to be larger area fires during what would be considered the summer months in Portugal. On your own, practice more aggregations and manipulations that you might be able to perform on this dataset. "
   ]
  },
  {
   "cell_type": "markdown",
   "metadata": {},
   "source": [
    "## Boolean Masking \n",
    "\n",
    "Boolean masking also works with PySpark DataFrames just like Pandas DataFrames, the only difference being that the `.filter()` method is used in PySpark. To try this out, let's compare the amount of fire in those areas with absolutely no rain to those areas that had rain."
   ]
  },
  {
   "cell_type": "code",
   "execution_count": 12,
   "metadata": {},
   "outputs": [],
   "source": [
    "no_rain = spark_df.filter(spark_df['rain'] == 0.0)\n",
    "some_rain = spark_df.filter(spark_df['rain'] > 0.0)"
   ]
  },
  {
   "cell_type": "markdown",
   "metadata": {},
   "source": [
    "Now, to perform calculations to find the mean of a column, we'll have to import functions from `pyspark.sql`. As always, to read more about them, check out the [documentation](https://spark.apache.org/docs/latest/api/python/pyspark.sql.html#module-pyspark.sql.functions)."
   ]
  },
  {
   "cell_type": "code",
   "execution_count": 13,
   "metadata": {},
   "outputs": [
    {
     "name": "stdout",
     "output_type": "stream",
     "text": [
      "+------------------+\n",
      "|         avg(area)|\n",
      "+------------------+\n",
      "|13.023693516699408|\n",
      "+------------------+\n",
      "\n",
      "no rain fire area:  None \n",
      "\n",
      "+---------+\n",
      "|avg(area)|\n",
      "+---------+\n",
      "|  1.62375|\n",
      "+---------+\n",
      "\n",
      "some rain fire area:  None \n",
      "\n"
     ]
    }
   ],
   "source": [
    "from pyspark.sql.functions import mean\n",
    "\n",
    "print('no rain fire area: ', no_rain.select(mean('area')).show(),'\\n')\n",
    "\n",
    "print('some rain fire area: ', some_rain.select(mean('area')).show(),'\\n')"
   ]
  },
  {
   "cell_type": "markdown",
   "metadata": {},
   "source": [
    "Yes there's definitely something there! Unsurprisingly, rain plays in a big factor in the spread of wildfire.\n",
    "\n",
    "Let's obtain data from only the summer months in Portugal (June, July, and August). We can also do the same for the winter months in Portugal (December, January, February)."
   ]
  },
  {
   "cell_type": "code",
   "execution_count": 14,
   "metadata": {},
   "outputs": [
    {
     "name": "stdout",
     "output_type": "stream",
     "text": [
      "+------------------+\n",
      "|         avg(area)|\n",
      "+------------------+\n",
      "|12.262317596566525|\n",
      "+------------------+\n",
      "\n",
      "summer months fire area None\n",
      "+-----------------+\n",
      "|        avg(area)|\n",
      "+-----------------+\n",
      "|7.918387096774193|\n",
      "+-----------------+\n",
      "\n",
      "winter months fire areas None\n"
     ]
    }
   ],
   "source": [
    "summer_months = spark_df.filter(spark_df['month'].isin(['jun','jul','aug']))\n",
    "winter_months = spark_df.filter(spark_df['month'].isin(['dec','jan','feb']))\n",
    "\n",
    "print('summer months fire area', summer_months.select(mean('area')).show())\n",
    "print('winter months fire areas', winter_months.select(mean('area')).show())"
   ]
  },
  {
   "cell_type": "markdown",
   "metadata": {},
   "source": [
    "## Machine Learning\n",
    "\n",
    "Now that we've performed some data manipulation and aggregation, lets get to the really cool stuff, machine learning! PySpark states that they've used scikit-learn as an inspiration for their implementation of a machine learning library. As a result, many of the methods and functionalities look similar, but there are some crucial distinctions. There are three main concepts found within the ML library:\n",
    "\n",
    "`Transformer`: An algorithm that transforms one PySpark DataFrame into another DataFrame. \n",
    "\n",
    "`Estimator`: An algorithm that can be fit onto a PySpark DataFrame that can then be used as a Transformer. \n",
    "\n",
    "`Pipeline`: A pipeline very similar to an `sklearn` pipeline that chains together different actions.\n",
    "\n",
    "The reasoning behind this separation of the fitting and transforming step is because Spark is lazily evaluated, so the 'fitting' of a model does not actually take place until the Transformation action is called. Let's examine what this actually looks like by performing a regression on the Forest Fire dataset. To start off with, we'll import the necessary libraries for our tasks."
   ]
  },
  {
   "cell_type": "code",
   "execution_count": 16,
   "metadata": {},
   "outputs": [],
   "source": [
    "from pyspark.ml.regression import RandomForestRegressor\n",
    "from pyspark.ml import feature\n",
    "from pyspark.ml.feature import StringIndexer, VectorAssembler, OneHotEncoder"
   ]
  },
  {
   "cell_type": "markdown",
   "metadata": {},
   "source": [
    "Looking at our data, one can see that all the categories are numerical except for day and month. We saw some correlation between the month and area burned in a fire, so we will include that in our model. The day of the week, however, is highly unlikely to have any effect on fire, so we will drop it from the DataFrame."
   ]
  },
  {
   "cell_type": "code",
   "execution_count": 17,
   "metadata": {},
   "outputs": [
    {
     "data": {
      "text/plain": [
       "Row(X=7, Y=5, month='mar', FFMC=86.2, DMC=26.2, DC=94.3, ISI=5.1, temp=8.2, RH=51, wind=6.7, rain=0.0, area=0.0)"
      ]
     },
     "execution_count": 17,
     "metadata": {},
     "output_type": "execute_result"
    }
   ],
   "source": [
    "fire_df = spark_df.drop('day')\n",
    "fire_df.head()"
   ]
  },
  {
   "cell_type": "markdown",
   "metadata": {},
   "source": [
    "In order for us to run our model, we need to turn the months variable into a dummy variable. In `ml` this is a 2-step process that first requires turning the categorical variable into a numerical index (`StringIndexer`). Only after the variable is an integer can PySpark create dummy variable columns related to each category (`OneHotEncoderEstimator`). Your key parameters when using these `ml` estimators are: `inputCol` (the column you want to change) and `outputCol` (where you will store the changed column). Here it is in action: "
   ]
  },
  {
   "cell_type": "code",
   "execution_count": 18,
   "metadata": {},
   "outputs": [],
   "source": [
    "si = StringIndexer(inputCol='month', outputCol='month_num')\n",
    "model = si.fit(fire_df)\n",
    "new_df = model.transform(fire_df)"
   ]
  },
  {
   "cell_type": "markdown",
   "metadata": {},
   "source": [
    "Note the small, but critical distinction between `sklearn`'s implementation of a transformer and PySpark's implementation. `sklearn` is more object oriented and Spark is more functional oriented."
   ]
  },
  {
   "cell_type": "code",
   "execution_count": 19,
   "metadata": {},
   "outputs": [
    {
     "data": {
      "text/plain": [
       "pyspark.ml.feature.StringIndexer"
      ]
     },
     "execution_count": 19,
     "metadata": {},
     "output_type": "execute_result"
    }
   ],
   "source": [
    "## this is an estimator (an untrained transformer)\n",
    "type(si)"
   ]
  },
  {
   "cell_type": "code",
   "execution_count": 20,
   "metadata": {},
   "outputs": [
    {
     "data": {
      "text/plain": [
       "pyspark.ml.feature.StringIndexerModel"
      ]
     },
     "execution_count": 20,
     "metadata": {},
     "output_type": "execute_result"
    }
   ],
   "source": [
    "## this is a transformer (a trained transformer)\n",
    "type(model)"
   ]
  },
  {
   "cell_type": "code",
   "execution_count": 21,
   "metadata": {},
   "outputs": [
    {
     "data": {
      "text/plain": [
       "['aug',\n",
       " 'sep',\n",
       " 'mar',\n",
       " 'jul',\n",
       " 'feb',\n",
       " 'jun',\n",
       " 'oct',\n",
       " 'apr',\n",
       " 'dec',\n",
       " 'jan',\n",
       " 'may',\n",
       " 'nov']"
      ]
     },
     "execution_count": 21,
     "metadata": {},
     "output_type": "execute_result"
    }
   ],
   "source": [
    "model.labels"
   ]
  },
  {
   "cell_type": "code",
   "execution_count": 22,
   "metadata": {},
   "outputs": [
    {
     "data": {
      "text/plain": [
       "[Row(X=7, Y=5, month='mar', FFMC=86.2, DMC=26.2, DC=94.3, ISI=5.1, temp=8.2, RH=51, wind=6.7, rain=0.0, area=0.0, month_num=2.0),\n",
       " Row(X=7, Y=4, month='oct', FFMC=90.6, DMC=35.4, DC=669.1, ISI=6.7, temp=18.0, RH=33, wind=0.9, rain=0.0, area=0.0, month_num=6.0),\n",
       " Row(X=7, Y=4, month='oct', FFMC=90.6, DMC=43.7, DC=686.9, ISI=6.7, temp=14.6, RH=33, wind=1.3, rain=0.0, area=0.0, month_num=6.0),\n",
       " Row(X=8, Y=6, month='mar', FFMC=91.7, DMC=33.3, DC=77.5, ISI=9.0, temp=8.3, RH=97, wind=4.0, rain=0.2, area=0.0, month_num=2.0)]"
      ]
     },
     "execution_count": 22,
     "metadata": {},
     "output_type": "execute_result"
    }
   ],
   "source": [
    "new_df.head(4)"
   ]
  },
  {
   "cell_type": "markdown",
   "metadata": {},
   "source": [
    "As you can see, we have created a new column called `'month_num'` that represents the month by a number. Now that we have performed this step, we can use Spark's version of `OneHotEncoder()` - `OneHotEncoderEstimator()`. Let's make sure we have an accurate representation of the months."
   ]
  },
  {
   "cell_type": "code",
   "execution_count": 23,
   "metadata": {},
   "outputs": [
    {
     "data": {
      "text/plain": [
       "[Row(month_num=8.0),\n",
       " Row(month_num=0.0),\n",
       " Row(month_num=7.0),\n",
       " Row(month_num=1.0),\n",
       " Row(month_num=4.0),\n",
       " Row(month_num=11.0),\n",
       " Row(month_num=3.0),\n",
       " Row(month_num=2.0),\n",
       " Row(month_num=10.0),\n",
       " Row(month_num=6.0),\n",
       " Row(month_num=5.0),\n",
       " Row(month_num=9.0)]"
      ]
     },
     "execution_count": 23,
     "metadata": {},
     "output_type": "execute_result"
    }
   ],
   "source": [
    "new_df.select('month_num').distinct().collect()"
   ]
  },
  {
   "cell_type": "code",
   "execution_count": 25,
   "metadata": {},
   "outputs": [
    {
     "data": {
      "text/plain": [
       "Row(X=7, Y=5, month='mar', FFMC=86.2, DMC=26.2, DC=94.3, ISI=5.1, temp=8.2, RH=51, wind=6.7, rain=0.0, area=0.0, month_num=2.0, month_vec=SparseVector(11, {2: 1.0}))"
      ]
     },
     "execution_count": 25,
     "metadata": {},
     "output_type": "execute_result"
    }
   ],
   "source": [
    "## fitting and transforming the OneHotEncoderEstimator\n",
    "ohe = feature.OneHotEncoder(inputCols=['month_num'], outputCols=['month_vec'], dropLast=True)\n",
    "one_hot_encoded = ohe.fit(new_df).transform(new_df)\n",
    "one_hot_encoded.head()"
   ]
  },
  {
   "cell_type": "markdown",
   "metadata": {},
   "source": [
    "Great, we now have a OneHotEncoded sparse vector in the `'month_vec'` column! Because Spark is optimized for big data, sparse vectors are used rather than entirely new columns for dummy variables because it is more space efficient. You can see in this first row of the DataFrame:  \n",
    "\n",
    "`month_vec=SparseVector(11, {2: 1.0})` this indicates that we have a sparse vector of size 11 (because of the parameter `dropLast = True` in `OneHotEncoderEstimator()`) and this particular data point is the 2nd index of our month labels (march, based off the labels in the `model` StringEstimator transformer).  \n",
    "\n",
    "The final requirement for all machine learning models in PySpark is to put all of the features of your model into one sparse vector. This is once again for efficiency sake. Here, we are doing that with the `VectorAssembler()` estimator."
   ]
  },
  {
   "cell_type": "code",
   "execution_count": 26,
   "metadata": {},
   "outputs": [],
   "source": [
    "features = ['X',\n",
    " 'Y',\n",
    " 'FFMC',\n",
    " 'DMC',\n",
    " 'DC',\n",
    " 'ISI',\n",
    " 'temp',\n",
    " 'RH',\n",
    " 'wind',\n",
    " 'rain',\n",
    " 'month_vec']\n",
    "\n",
    "target = 'area'\n",
    "\n",
    "vector = VectorAssembler(inputCols=features, outputCol='features')\n",
    "vectorized_df = vector.transform(one_hot_encoded)"
   ]
  },
  {
   "cell_type": "code",
   "execution_count": 27,
   "metadata": {},
   "outputs": [
    {
     "data": {
      "text/plain": [
       "Row(X=7, Y=5, month='mar', FFMC=86.2, DMC=26.2, DC=94.3, ISI=5.1, temp=8.2, RH=51, wind=6.7, rain=0.0, area=0.0, month_num=2.0, month_vec=SparseVector(11, {2: 1.0}), features=SparseVector(21, {0: 7.0, 1: 5.0, 2: 86.2, 3: 26.2, 4: 94.3, 5: 5.1, 6: 8.2, 7: 51.0, 8: 6.7, 12: 1.0}))"
      ]
     },
     "execution_count": 27,
     "metadata": {},
     "output_type": "execute_result"
    }
   ],
   "source": [
    "vectorized_df.head()"
   ]
  },
  {
   "cell_type": "markdown",
   "metadata": {},
   "source": [
    "Great! We now have our data in a format that seems acceptable for the last step. It's time for us to actually fit our model to data! Let's fit a Random Forest Regression model to our data. Although there are still a bunch of other features in the DataFrame, it doesn't matter for the machine learning model API. All that needs to be specified are the names of the features column and the label column. "
   ]
  },
  {
   "cell_type": "code",
   "execution_count": 28,
   "metadata": {},
   "outputs": [],
   "source": [
    "## instantiating and fitting the model\n",
    "rf_model = RandomForestRegressor(featuresCol='features', \n",
    "                                 labelCol='area', predictionCol='prediction').fit(vectorized_df)"
   ]
  },
  {
   "cell_type": "code",
   "execution_count": 29,
   "metadata": {},
   "outputs": [
    {
     "data": {
      "text/plain": [
       "SparseVector(21, {0: 0.0992, 1: 0.1082, 2: 0.1534, 3: 0.1407, 4: 0.096, 5: 0.0492, 6: 0.0625, 7: 0.1298, 8: 0.1334, 10: 0.001, 11: 0.0208, 12: 0.0004, 13: 0.0044, 14: 0.0, 15: 0.0004, 18: 0.0001, 20: 0.0003})"
      ]
     },
     "execution_count": 29,
     "metadata": {},
     "output_type": "execute_result"
    }
   ],
   "source": [
    "rf_model.featureImportances"
   ]
  },
  {
   "cell_type": "code",
   "execution_count": 30,
   "metadata": {},
   "outputs": [
    {
     "data": {
      "text/plain": [
       "[Row(area=0.0, prediction=6.702578531118749),\n",
       " Row(area=0.0, prediction=5.372938337703911),\n",
       " Row(area=0.0, prediction=5.170761867115676),\n",
       " Row(area=0.0, prediction=5.457340848453588),\n",
       " Row(area=0.0, prediction=5.5488752245512645),\n",
       " Row(area=0.0, prediction=8.022718440740412),\n",
       " Row(area=0.0, prediction=6.563381265799582),\n",
       " Row(area=0.0, prediction=18.08459469862359),\n",
       " Row(area=0.0, prediction=6.934688335415506),\n",
       " Row(area=0.0, prediction=5.893944055396477)]"
      ]
     },
     "execution_count": 30,
     "metadata": {},
     "output_type": "execute_result"
    }
   ],
   "source": [
    "## generating predictions\n",
    "predictions = rf_model.transform(vectorized_df).select('area', 'prediction')\n",
    "predictions.head(10)"
   ]
  },
  {
   "cell_type": "markdown",
   "metadata": {},
   "source": [
    "Now we can evaluate how well the model performed using `RegressionEvaluator`."
   ]
  },
  {
   "cell_type": "code",
   "execution_count": 31,
   "metadata": {},
   "outputs": [],
   "source": [
    "from pyspark.ml.evaluation import RegressionEvaluator\n",
    "evaluator = RegressionEvaluator(predictionCol='prediction', labelCol='area')"
   ]
  },
  {
   "cell_type": "code",
   "execution_count": 32,
   "metadata": {},
   "outputs": [
    {
     "data": {
      "text/plain": [
       "0.686985738804824"
      ]
     },
     "execution_count": 32,
     "metadata": {},
     "output_type": "execute_result"
    }
   ],
   "source": [
    "## evaluating r^2\n",
    "evaluator.evaluate(predictions,{evaluator.metricName: 'r2'})"
   ]
  },
  {
   "cell_type": "code",
   "execution_count": 33,
   "metadata": {},
   "outputs": [
    {
     "data": {
      "text/plain": [
       "13.909567904084334"
      ]
     },
     "execution_count": 33,
     "metadata": {},
     "output_type": "execute_result"
    }
   ],
   "source": [
    "## evaluating mean absolute error\n",
    "evaluator.evaluate(predictions,{evaluator.metricName: 'mae'})"
   ]
  },
  {
   "cell_type": "markdown",
   "metadata": {},
   "source": [
    "## Putting it all in a Pipeline\n",
    "\n",
    "We just performed a whole lot of transformations to our data. Let's take a look at all the estimators we used to create this model:\n",
    "\n",
    "* `StringIndexer()` \n",
    "* `OneHotEnconderEstimator()` \n",
    "* `VectorAssembler()` \n",
    "* `RandomForestRegressor()` \n",
    "\n",
    "Once we've fit our model in the Pipeline, we're then going to want to evaluate it to determine how well it performs. We can do this with:\n",
    "\n",
    "* `RegressionEvaluator()` \n",
    "\n",
    "We can streamline all of these transformations to make it much more efficient by chaining them together in a pipeline. The Pipeline object expects a list of the estimators prior set to the parameter `stages`."
   ]
  },
  {
   "cell_type": "code",
   "execution_count": 34,
   "metadata": {},
   "outputs": [],
   "source": [
    "# importing relevant libraries\n",
    "from pyspark.ml.tuning import ParamGridBuilder, TrainValidationSplit, CrossValidator\n",
    "from pyspark.ml import Pipeline"
   ]
  },
  {
   "cell_type": "code",
   "execution_count": 36,
   "metadata": {},
   "outputs": [],
   "source": [
    "## instantiating all necessary estimator objects\n",
    "\n",
    "string_indexer = StringIndexer(inputCol='month', outputCol='month_num', handleInvalid='keep')\n",
    "\n",
    "one_hot_encoder = OneHotEncoder(inputCols=['month_num'], outputCols=['month_vec'], dropLast=True)\n",
    "\n",
    "vector_assember = VectorAssembler(inputCols=features, outputCol='features')\n",
    "\n",
    "random_forest = RandomForestRegressor(featuresCol='features', labelCol='area')\n",
    "\n",
    "stages = [string_indexer, one_hot_encoder, vector_assember, random_forest]\n",
    "\n",
    "# instantiating the pipeline with all them estimator objects\n",
    "pipeline = Pipeline(stages=stages)"
   ]
  },
  {
   "cell_type": "markdown",
   "metadata": {},
   "source": [
    "### Cross-validation \n",
    "\n",
    "You might have missed a critical step in the random forest regression above; we did not cross validate or perform a train/test split! Now we're going to fix that by performing cross-validation and also testing out multiple different combinations of parameters in PySpark's `GridSearch()` equivalent. To begin with, we will create a parameter grid that contains the different parameters we want to use in our model."
   ]
  },
  {
   "cell_type": "code",
   "execution_count": 41,
   "metadata": {},
   "outputs": [],
   "source": [
    "# creating parameter grid\n",
    "\n",
    "params = ParamGridBuilder()\\\n",
    ".addGrid(random_forest.maxDepth, [5, 10, 15])\\\n",
    ".addGrid(random_forest.numTrees, [20 ,50, 100])\\\n",
    ".build()"
   ]
  },
  {
   "cell_type": "markdown",
   "metadata": {},
   "source": [
    "Let's take a look at the params variable we just built."
   ]
  },
  {
   "cell_type": "code",
   "execution_count": 42,
   "metadata": {},
   "outputs": [
    {
     "name": "stdout",
     "output_type": "stream",
     "text": [
      "total combinations of parameters:  9\n"
     ]
    },
    {
     "data": {
      "text/plain": [
       "{Param(parent='RandomForestRegressor_20c8b636dbd0', name='maxDepth', doc='Maximum depth of the tree. (>= 0) E.g., depth 0 means 1 leaf node; depth 1 means 1 internal node + 2 leaf nodes.'): 5,\n",
       " Param(parent='RandomForestRegressor_20c8b636dbd0', name='numTrees', doc='Number of trees to train (>= 1).'): 20}"
      ]
     },
     "execution_count": 42,
     "metadata": {},
     "output_type": "execute_result"
    }
   ],
   "source": [
    "print('total combinations of parameters: ', len(params))\n",
    "\n",
    "params[0]"
   ]
  },
  {
   "cell_type": "markdown",
   "metadata": {},
   "source": [
    "Now it's time to combine all the steps we've created to work in a single line of code with the `CrossValidator()` estimator."
   ]
  },
  {
   "cell_type": "code",
   "execution_count": 43,
   "metadata": {},
   "outputs": [],
   "source": [
    "## instantiating the evaluator by which we will measure our model's performance\n",
    "reg_evaluator = RegressionEvaluator(predictionCol='prediction', labelCol='area', metricName = 'mae')\n",
    "\n",
    "## instantiating crossvalidator estimator\n",
    "cv = CrossValidator(estimator=pipeline, estimatorParamMaps=params, evaluator=reg_evaluator, parallelism=4)"
   ]
  },
  {
   "cell_type": "code",
   "execution_count": 44,
   "metadata": {},
   "outputs": [],
   "source": [
    "## fitting crossvalidator\n",
    "cross_validated_model = cv.fit(fire_df)"
   ]
  },
  {
   "cell_type": "markdown",
   "metadata": {},
   "source": [
    "Now, let's see how well the model performed! Let's take a look at the average performance for each one of our 9 models. It looks like the optimal performance is an MAE around 23. Note that this is worse than our original model, but that's because our original model had substantial data leakage. We didn't do a train-test split!"
   ]
  },
  {
   "cell_type": "code",
   "execution_count": 45,
   "metadata": {
    "scrolled": true
   },
   "outputs": [
    {
     "data": {
      "text/plain": [
       "[21.218032978911175,\n",
       " 22.341172493750523,\n",
       " 22.064663859007403,\n",
       " 22.29603611781704,\n",
       " 22.846661725996235,\n",
       " 22.738830689544418,\n",
       " 22.485722997149267,\n",
       " 22.914864490882525,\n",
       " 22.824532822659275]"
      ]
     },
     "execution_count": 45,
     "metadata": {},
     "output_type": "execute_result"
    }
   ],
   "source": [
    "cross_validated_model.avgMetrics"
   ]
  },
  {
   "cell_type": "markdown",
   "metadata": {},
   "source": [
    "Now, let's take a look at the optimal parameters of our best performing model. The `cross_validated_model` variable is now saved as the best performing model from the grid search just performed. Let's look to see how well the predictions performed. As you can see, this dataset has a large number of areas of \"0.0\" burned. Perhaps, it would be better to investigate this problem as a classification task."
   ]
  },
  {
   "cell_type": "code",
   "execution_count": 46,
   "metadata": {},
   "outputs": [
    {
     "name": "stdout",
     "output_type": "stream",
     "text": [
      "+------------------+-------+\n",
      "|        prediction|   area|\n",
      "+------------------+-------+\n",
      "| 7.082164333144351|    0.0|\n",
      "| 4.715616442780792|    0.0|\n",
      "|  4.76759889303789|    0.0|\n",
      "| 5.872693496635599|    0.0|\n",
      "|  9.50061829562927|    0.0|\n",
      "| 7.588741015573014|    0.0|\n",
      "| 5.944257803234652|    0.0|\n",
      "| 6.841995751447134|    0.0|\n",
      "|18.012928012382506|    0.0|\n",
      "| 4.875687993855669|    0.0|\n",
      "| 5.390147624050073|    0.0|\n",
      "| 4.198358004119158|    0.0|\n",
      "| 7.778656069823464|    0.0|\n",
      "| 7.664244638863844|    0.0|\n",
      "| 80.79408969099302|    0.0|\n",
      "|  5.99335017634321|    0.0|\n",
      "| 5.273189805567068|    0.0|\n",
      "| 7.726796294171869|    0.0|\n",
      "| 5.886796797614272|    0.0|\n",
      "| 7.622083748392628|    0.0|\n",
      "|11.721016025266167|    0.0|\n",
      "|  4.17210712913114|    0.0|\n",
      "| 5.146975856248454|    0.0|\n",
      "| 7.527519029132828|    0.0|\n",
      "| 5.830424568875366|    0.0|\n",
      "| 5.268541479998463|    0.0|\n",
      "| 7.518091800238645|    0.0|\n",
      "| 7.217383777742205|    0.0|\n",
      "|  6.57611437529557|    0.0|\n",
      "|6.0228477579414434|    0.0|\n",
      "| 4.944993186362859|    0.0|\n",
      "| 6.527211171794005|    0.0|\n",
      "| 4.506287673905582|    0.0|\n",
      "| 5.016233876949839|    0.0|\n",
      "|  4.42452074855388|    0.0|\n",
      "|6.6223896666585045|    0.0|\n",
      "|7.8298195253097544|    0.0|\n",
      "| 9.060666230562855|    0.0|\n",
      "| 7.474409601799287|    0.0|\n",
      "|4.7448152494872025|    0.0|\n",
      "| 5.188181420192497|    0.0|\n",
      "|  6.26872189559996|    0.0|\n",
      "| 5.465805574827822|    0.0|\n",
      "| 4.991318333911565|    0.0|\n",
      "|6.7397724802955725|    0.0|\n",
      "| 35.71174930297205|    0.0|\n",
      "| 6.417244358233569|    0.0|\n",
      "|  9.56430048698191|    0.0|\n",
      "|  4.64585634103689|    0.0|\n",
      "|6.7433898901549885|    0.0|\n",
      "|10.813521322036463|    0.0|\n",
      "| 5.247968511115341|    0.0|\n",
      "| 4.607489050060809|    0.0|\n",
      "| 4.607489050060809|    0.0|\n",
      "| 5.927176142184406|    0.0|\n",
      "| 9.922690729939426|    0.0|\n",
      "|  6.84994052179303|    0.0|\n",
      "| 7.886128914954608|    0.0|\n",
      "| 5.171882889319457|    0.0|\n",
      "| 6.142842988270319|    0.0|\n",
      "| 4.095236345184125|    0.0|\n",
      "| 5.887549043922044|    0.0|\n",
      "| 4.858180966243469|    0.0|\n",
      "|  5.92875829305416|    0.0|\n",
      "| 5.916497131718791|    0.0|\n",
      "|13.039283361904262|    0.0|\n",
      "| 5.149551213031353|    0.0|\n",
      "| 6.052671246472758|    0.0|\n",
      "| 6.269442214214694|    0.0|\n",
      "|  5.51202005655937|    0.0|\n",
      "| 8.223129394914533|    0.0|\n",
      "| 4.066914539191483|    0.0|\n",
      "|  4.93195532675529|    0.0|\n",
      "|18.524136158015594|    0.0|\n",
      "|  4.73685551342268|    0.0|\n",
      "| 9.366291587734365|    0.0|\n",
      "| 8.297661432814362|    0.0|\n",
      "| 7.395603181561422|    0.0|\n",
      "| 7.559176935817045|    0.0|\n",
      "| 8.416664939180814|    0.0|\n",
      "|16.075707867463713|    0.0|\n",
      "|  9.20655426563123|    0.0|\n",
      "|11.268212119386908|    0.0|\n",
      "|25.505194658147833|    0.0|\n",
      "| 13.65711091658434|    0.0|\n",
      "| 9.286552297101508|    0.0|\n",
      "| 8.579725098647776|    0.0|\n",
      "|12.945199469471955|    0.0|\n",
      "| 27.95570113469584|    0.0|\n",
      "| 6.225250604651296|    0.0|\n",
      "| 5.583077400843338|    0.0|\n",
      "| 7.019222055927855|    0.0|\n",
      "|14.307364674084582|    0.0|\n",
      "| 20.26548126187789|    0.0|\n",
      "| 7.447125540278863|    0.0|\n",
      "| 4.626976110152478|    0.0|\n",
      "| 4.292603095987855|    0.0|\n",
      "| 5.359706892460094|    0.0|\n",
      "| 4.354988108543663|    0.0|\n",
      "|  4.82129490771956|    0.0|\n",
      "|  4.82129490771956|    0.0|\n",
      "|18.858481774535463|    0.0|\n",
      "|  5.11786406060464|    0.0|\n",
      "|14.521909673522794|    0.0|\n",
      "| 5.044606697697642|    0.0|\n",
      "| 6.847812474218964|    0.0|\n",
      "| 5.412825690568417|    0.0|\n",
      "| 4.400526086872917|    0.0|\n",
      "| 4.450122879366111|    0.0|\n",
      "| 5.969196738960032|    0.0|\n",
      "| 6.847812474218964|    0.0|\n",
      "| 4.676360758370364|    0.0|\n",
      "|  4.90413164975928|    0.0|\n",
      "|4.3694091323922635|    0.0|\n",
      "| 5.284284697555572|    0.0|\n",
      "|5.2488263642222375|    0.0|\n",
      "| 5.613985731786523|    0.0|\n",
      "|  4.61241947101656|    0.0|\n",
      "|4.8495910212180275|    0.0|\n",
      "| 3.989381818196604|    0.0|\n",
      "| 3.860365605169843|    0.0|\n",
      "| 5.275544242921813|    0.0|\n",
      "| 8.235741398147336|    0.0|\n",
      "|5.2384515915971726|    0.0|\n",
      "| 5.427865076636732|    0.0|\n",
      "| 46.13406326381481|    0.0|\n",
      "| 4.215554107429497|    0.0|\n",
      "| 6.229099151775592|    0.0|\n",
      "| 5.019442975258341|    0.0|\n",
      "| 6.947386053309048|    0.0|\n",
      "| 4.392180742270148|    0.0|\n",
      "| 4.737416068357105|    0.0|\n",
      "| 5.585978178993658|    0.0|\n",
      "| 4.466245963723432|    0.0|\n",
      "| 4.023715779782036|    0.0|\n",
      "| 5.983838617142169|    0.0|\n",
      "| 7.489777119924236|    0.0|\n",
      "|  5.96606654993076|    0.0|\n",
      "| 5.633133046259981|   0.36|\n",
      "|10.163249527301964|   0.43|\n",
      "| 6.868971635481936|   0.47|\n",
      "| 5.090474615488025|   0.55|\n",
      "| 17.45232701445377|   0.61|\n",
      "| 26.29007024166338|   0.71|\n",
      "| 4.299313441890822|   0.77|\n",
      "|14.369678811095635|    0.9|\n",
      "| 5.939416078739139|   0.95|\n",
      "| 8.327580063461475|   0.96|\n",
      "|  6.56169128808788|   1.07|\n",
      "|33.505016542457376|   1.12|\n",
      "| 4.654870656280365|   1.19|\n",
      "|16.298083726278186|   1.36|\n",
      "| 5.295593978660952|   1.43|\n",
      "| 5.427865076636732|   1.46|\n",
      "| 8.807597396314787|   1.46|\n",
      "| 4.804958494706292|   1.56|\n",
      "|  7.47722900331586|   1.61|\n",
      "|10.245615371040348|   1.63|\n",
      "|  4.96094428257266|   1.64|\n",
      "| 7.518091800238645|   1.69|\n",
      "|4.9485429123368405|   1.75|\n",
      "|5.0956320832880335|    1.9|\n",
      "| 7.341448692188924|   1.94|\n",
      "|12.989540400366351|   1.95|\n",
      "|  6.50164967255836|   2.01|\n",
      "| 5.817062474093885|   2.14|\n",
      "| 4.013848447008293|   2.29|\n",
      "| 4.511967135003614|   2.51|\n",
      "|16.398677064054286|   2.53|\n",
      "| 7.563802245909864|   2.55|\n",
      "| 6.371793190856869|   2.57|\n",
      "| 6.693060370748446|   2.69|\n",
      "|  4.81429214479621|   2.74|\n",
      "|  6.32487568165916|   3.07|\n",
      "| 4.885157533873521|    3.5|\n",
      "| 7.214050740786947|   4.53|\n",
      "| 8.815794730992346|   4.61|\n",
      "|  6.41088705902966|   4.69|\n",
      "| 7.025090377451852|   4.88|\n",
      "|6.0300562638698425|   5.23|\n",
      "|7.9128850988731205|   5.33|\n",
      "| 7.028727831447836|   5.44|\n",
      "| 5.528268240940195|   6.38|\n",
      "|   9.3931494260514|   6.83|\n",
      "| 6.505199582033041|   6.96|\n",
      "|   9.3508410391125|   7.04|\n",
      "| 7.346530721134506|   7.19|\n",
      "| 10.20831674734428|    7.3|\n",
      "| 5.282454021207007|    7.4|\n",
      "| 6.205908663182391|   8.24|\n",
      "| 7.976191406977387|   8.31|\n",
      "| 5.594621742772212|   8.68|\n",
      "|6.3863466968416525|   8.71|\n",
      "|37.119180752956325|   9.41|\n",
      "|6.3863466968416525|  10.01|\n",
      "| 4.974817013835066|  10.02|\n",
      "| 8.815794730992346|  10.93|\n",
      "|  40.5524211447315|  11.06|\n",
      "| 8.759893493235436|  11.24|\n",
      "| 4.864394961685737|  11.32|\n",
      "|10.184998645947703|  11.53|\n",
      "| 6.032764759381877|   12.1|\n",
      "|10.793756069575556|  13.05|\n",
      "|  7.36213571551738|   13.7|\n",
      "|6.0350924068403895|  13.99|\n",
      "|  6.47282017805407|  14.57|\n",
      "|  5.74906276654938|  15.45|\n",
      "| 8.619576537467264|   17.2|\n",
      "| 7.518091800238645|  19.23|\n",
      "| 48.49928552447844|  23.41|\n",
      "| 7.838425824955216|  24.23|\n",
      "| 7.848433106858567|   26.0|\n",
      "| 5.804867215674165|  26.13|\n",
      "| 6.971752206596716|  27.35|\n",
      "| 6.063847617388015|  28.66|\n",
      "| 6.063847617388015|  28.66|\n",
      "| 7.489777119924236|  29.48|\n",
      "| 8.516655452578572|  30.32|\n",
      "|41.585421144731505|  31.72|\n",
      "| 7.161709579003508|  31.86|\n",
      "| 6.864855534963516|  32.07|\n",
      "| 5.990344120257872|  35.88|\n",
      "| 7.590832314397412|  36.85|\n",
      "|16.763021380454244|  37.02|\n",
      "| 6.730700232493914|  37.71|\n",
      "| 6.544980652275449|  48.55|\n",
      "| 9.188100130276753|  49.37|\n",
      "|  22.7951947784013|   58.3|\n",
      "|42.529151615386546|   64.1|\n",
      "|  23.3358357852388|   71.3|\n",
      "|44.351346919580045|  88.49|\n",
      "|45.823378661978964|  95.18|\n",
      "|13.939060270310936| 103.39|\n",
      "|63.071391373945275| 105.66|\n",
      "|171.31536282093458| 154.88|\n",
      "|51.249916774413194| 196.48|\n",
      "| 77.23860694083584| 200.94|\n",
      "| 67.21042035147403| 212.88|\n",
      "| 678.2655747845423|1090.84|\n",
      "| 5.459357921427408|    0.0|\n",
      "| 4.925100586989208|    0.0|\n",
      "| 6.817622068280443|    0.0|\n",
      "|5.2218352967840636|  10.13|\n",
      "| 6.031090876962595|    0.0|\n",
      "| 5.755702581495062|   2.87|\n",
      "| 5.828511009781552|   0.76|\n",
      "| 4.153317525025567|   0.09|\n",
      "|  4.95862278629972|   0.75|\n",
      "| 9.305969003984611|    0.0|\n",
      "| 5.443264632809338|   2.47|\n",
      "| 16.47384963414591|   0.68|\n",
      "| 4.689673721541155|   0.24|\n",
      "| 4.562687512350169|   0.21|\n",
      "| 4.989179418487442|   1.52|\n",
      "| 7.457513330133095|  10.34|\n",
      "|6.8744909112374115|    0.0|\n",
      "| 7.117031484228727|   8.02|\n",
      "|  4.76551793559038|   0.68|\n",
      "|4.2512930332915655|    0.0|\n",
      "|  4.64990766626029|   1.38|\n",
      "| 6.753842381175862|   8.85|\n",
      "| 6.191978520695022|    3.3|\n",
      "| 5.574384978147373|   4.25|\n",
      "| 6.591369859090824|   1.56|\n",
      "| 5.392615072853552|   6.54|\n",
      "| 5.316626959099734|   0.79|\n",
      "| 5.189853585517687|   0.17|\n",
      "| 5.473306881108037|    0.0|\n",
      "| 4.593080750145894|    0.0|\n",
      "| 4.113279971472364|    4.4|\n",
      "| 10.27872419740078|   0.52|\n",
      "|6.3470018483109785|   9.27|\n",
      "| 5.313641545262934|   3.09|\n",
      "|  7.01744336617936|   8.98|\n",
      "| 7.366452966025913|  11.19|\n",
      "| 6.701888891745304|   5.38|\n",
      "|  9.42558014302755|  17.85|\n",
      "| 9.433868021815432|  10.73|\n",
      "|  9.42558014302755|  22.03|\n",
      "|  9.42558014302755|   9.77|\n",
      "| 6.701888891745304|   9.27|\n",
      "| 9.783528555725965|  24.77|\n",
      "| 6.614871653042627|    0.0|\n",
      "| 5.483442651613776|    1.1|\n",
      "| 9.084477065542327|  24.24|\n",
      "|31.966469809015745|    0.0|\n",
      "|41.370072724073694|    0.0|\n",
      "|15.170867282831443|    0.0|\n",
      "| 7.145905545020535|    0.0|\n",
      "| 7.145905545020535|    0.0|\n",
      "| 4.005166518686844|    0.0|\n",
      "| 18.76070669373626|    8.0|\n",
      "| 5.218270680581275|   2.64|\n",
      "|58.331426912741826|  86.45|\n",
      "|10.094951815291068|   6.57|\n",
      "| 4.940109980583572|    0.0|\n",
      "| 6.940976031169304|    0.9|\n",
      "|  4.78617477016673|    0.0|\n",
      "| 7.531617722197258|    0.0|\n",
      "|7.2741500322741715|    0.0|\n",
      "+------------------+-------+\n",
      "only showing top 300 rows\n",
      "\n"
     ]
    }
   ],
   "source": [
    "predictions = cross_validated_model.transform(spark_df)\n",
    "predictions.select('prediction', 'area').show(300)"
   ]
  },
  {
   "cell_type": "markdown",
   "metadata": {},
   "source": [
    "Now let's go ahead and take a look at the feature importances of our random forest model. In order to do this, we need to unroll our pipeline to access the random forest model. Let's start by first checking out the `.bestModel` attribute of our `cross_validated_model`. "
   ]
  },
  {
   "cell_type": "code",
   "execution_count": 47,
   "metadata": {
    "slideshow": {
     "slide_type": "slide"
    }
   },
   "outputs": [
    {
     "data": {
      "text/plain": [
       "pyspark.ml.pipeline.PipelineModel"
      ]
     },
     "execution_count": 47,
     "metadata": {},
     "output_type": "execute_result"
    }
   ],
   "source": [
    "type(cross_validated_model.bestModel)"
   ]
  },
  {
   "cell_type": "markdown",
   "metadata": {},
   "source": [
    "`ml` is treating the entire pipeline as the best performing model, so we need to go deeper into the pipeline to access the random forest model within it. Previously, we put the random forest model as the final \"stage\" in the stages variable list. Let's look at the `.stages` attribute of the `.bestModel`."
   ]
  },
  {
   "cell_type": "code",
   "execution_count": 48,
   "metadata": {},
   "outputs": [
    {
     "data": {
      "text/plain": [
       "[StringIndexerModel: uid=StringIndexer_6fdd9a4158af, handleInvalid=keep,\n",
       " OneHotEncoderModel: uid=OneHotEncoder_03da1be6c961, dropLast=true, handleInvalid=error, numInputCols=1, numOutputCols=1,\n",
       " VectorAssembler_11ebda438197,\n",
       " RandomForestRegressionModel: uid=RandomForestRegressor_20c8b636dbd0, numTrees=20, numFeatures=22]"
      ]
     },
     "execution_count": 48,
     "metadata": {},
     "output_type": "execute_result"
    }
   ],
   "source": [
    "cross_validated_model.bestModel.stages"
   ]
  },
  {
   "cell_type": "markdown",
   "metadata": {},
   "source": [
    "Perfect! There's the RandomForestRegressionModel, represented by the last item in the stages list. Now, we should be able to access all the attributes of the random forest regressor."
   ]
  },
  {
   "cell_type": "code",
   "execution_count": 49,
   "metadata": {},
   "outputs": [],
   "source": [
    "optimal_rf_model = cross_validated_model.bestModel.stages[3]"
   ]
  },
  {
   "cell_type": "code",
   "execution_count": 50,
   "metadata": {},
   "outputs": [
    {
     "data": {
      "text/plain": [
       "SparseVector(22, {0: 0.097, 1: 0.0211, 2: 0.098, 3: 0.1403, 4: 0.1587, 5: 0.0723, 6: 0.1282, 7: 0.0739, 8: 0.1583, 9: 0.0025, 10: 0.0021, 11: 0.0343, 12: 0.0, 13: 0.0119, 15: 0.0005, 17: 0.0006, 18: 0.0, 20: 0.0004})"
      ]
     },
     "execution_count": 50,
     "metadata": {},
     "output_type": "execute_result"
    }
   ],
   "source": [
    "optimal_rf_model.featureImportances"
   ]
  },
  {
   "cell_type": "code",
   "execution_count": 51,
   "metadata": {},
   "outputs": [
    {
     "data": {
      "text/plain": [
       "20"
      ]
     },
     "execution_count": 51,
     "metadata": {},
     "output_type": "execute_result"
    }
   ],
   "source": [
    "optimal_rf_model.getNumTrees"
   ]
  },
  {
   "cell_type": "markdown",
   "metadata": {},
   "source": [
    "## Summary\n",
    "\n",
    "In this lesson, you learned about PySpark's DataFrames, machine learning models, and pipelines. With the use of a pipeline, you can train a huge number of models simultaneously, saving you a substantial amount of time and effort. Up next, you will have a chance to build a PySpark machine learning pipeline of your own with a classification problem!"
   ]
  }
 ],
 "metadata": {
  "kernelspec": {
   "display_name": "Python 3",
   "language": "python",
   "name": "python3"
  },
  "language_info": {
   "codemirror_mode": {
    "name": "ipython",
    "version": 3
   },
   "file_extension": ".py",
   "mimetype": "text/x-python",
   "name": "python",
   "nbconvert_exporter": "python",
   "pygments_lexer": "ipython3",
   "version": "3.8.8"
  }
 },
 "nbformat": 4,
 "nbformat_minor": 2
}
